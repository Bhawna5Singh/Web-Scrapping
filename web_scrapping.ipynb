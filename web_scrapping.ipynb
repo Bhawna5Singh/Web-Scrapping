{
 "cells": [
  {
   "cell_type": "code",
   "execution_count": 1,
   "metadata": {},
   "outputs": [],
   "source": [
    "import pandas as pd\n",
    "import numpy as np\n",
    "import seaborn as sns\n",
    "import matplotlib.pyplot as plt\n",
    "import newspaper\n",
    "import requests\n",
    "from bs4 import BeautifulSoup\n",
    "from newspaper import Article\n",
    "import timeit\n",
    "import time\n",
    "from collections import OrderedDict "
   ]
  },
  {
   "cell_type": "code",
   "execution_count": 2,
   "metadata": {},
   "outputs": [],
   "source": [
    "starttime = timeit.default_timer()\n",
    "pages=[]\n",
    "l=[]\n",
    "url_list=[]\n",
    "no=list(range(21,41))"
   ]
  },
  {
   "cell_type": "code",
   "execution_count": 3,
   "metadata": {},
   "outputs": [],
   "source": [
    "def scrap():\n",
    "    for i in no:\n",
    "        var=30*i\n",
    "        st='P'+str(var)\n",
    "        base_url='http://www.techinvestornews.com/Amazon/Jeff-Bezos/'\n",
    "        url= base_url + st\n",
    "        pages.append(requests.get(url))\n",
    "        print(url)\n",
    "    for page in pages:\n",
    "        soup = BeautifulSoup(page.content, 'html.parser')\n",
    "        all_divs = soup.find_all(\"div\",{\"class\":\"headline\"})\n",
    "        for i,a in zip(list(range(len(all_divs))),all_divs):\n",
    "            # print(all_divs[i]['title'])\n",
    "            url_list.append(all_divs[i]['title'])\n",
    "    \n",
    "    "
   ]
  },
  {
   "cell_type": "code",
   "execution_count": 5,
   "metadata": {},
   "outputs": [
    {
     "name": "stdout",
     "output_type": "stream",
     "text": [
      "http://www.techinvestornews.com/Amazon/Jeff-Bezos/P630\n",
      "http://www.techinvestornews.com/Amazon/Jeff-Bezos/P660\n",
      "http://www.techinvestornews.com/Amazon/Jeff-Bezos/P690\n",
      "http://www.techinvestornews.com/Amazon/Jeff-Bezos/P720\n",
      "http://www.techinvestornews.com/Amazon/Jeff-Bezos/P750\n",
      "http://www.techinvestornews.com/Amazon/Jeff-Bezos/P780\n",
      "http://www.techinvestornews.com/Amazon/Jeff-Bezos/P810\n",
      "http://www.techinvestornews.com/Amazon/Jeff-Bezos/P840\n",
      "http://www.techinvestornews.com/Amazon/Jeff-Bezos/P870\n",
      "http://www.techinvestornews.com/Amazon/Jeff-Bezos/P900\n",
      "http://www.techinvestornews.com/Amazon/Jeff-Bezos/P930\n",
      "http://www.techinvestornews.com/Amazon/Jeff-Bezos/P960\n",
      "http://www.techinvestornews.com/Amazon/Jeff-Bezos/P990\n",
      "http://www.techinvestornews.com/Amazon/Jeff-Bezos/P1020\n",
      "http://www.techinvestornews.com/Amazon/Jeff-Bezos/P1050\n",
      "http://www.techinvestornews.com/Amazon/Jeff-Bezos/P1080\n",
      "http://www.techinvestornews.com/Amazon/Jeff-Bezos/P1110\n",
      "http://www.techinvestornews.com/Amazon/Jeff-Bezos/P1140\n",
      "http://www.techinvestornews.com/Amazon/Jeff-Bezos/P1170\n",
      "http://www.techinvestornews.com/Amazon/Jeff-Bezos/P1200\n"
     ]
    }
   ],
   "source": [
    "scrap()"
   ]
  },
  {
   "cell_type": "code",
   "execution_count": 6,
   "metadata": {},
   "outputs": [
    {
     "data": {
      "text/plain": [
       "1626"
      ]
     },
     "execution_count": 6,
     "metadata": {},
     "output_type": "execute_result"
    }
   ],
   "source": [
    "len(url_list)"
   ]
  },
  {
   "cell_type": "code",
   "execution_count": 7,
   "metadata": {
    "scrolled": true
   },
   "outputs": [],
   "source": [
    "new_url=OrderedDict.fromkeys(url_list).keys()\n",
    "\n",
    "new_url=list(new_url)\n",
    "len(new_url)\n",
    "l=[]"
   ]
  },
  {
   "cell_type": "code",
   "execution_count": 72,
   "metadata": {},
   "outputs": [],
   "source": [
    "def convert():\n",
    "    for url in new_url:\n",
    "        news=Article(url)\n",
    "        news.download()\n",
    "       #while news.download_state != 2:\n",
    "            #ime.sleep(3)\n",
    "        if news.download_state == 2:\n",
    "            news.parse()\n",
    "            l.append(\n",
    "                {'Title':news.title, 'Text': news.text.replace('\\n',' '), 'Date':news.publish_date, 'Author':news.authors}\n",
    "                )\n",
    "            print(\"Downloaded\"+ \" \" +url)\n",
    "        else:\n",
    "            print(\"Failed\"+ \" \"+url)\n",
    "            continue\n",
    "        #print(type(l))"
   ]
  },
  {
   "cell_type": "code",
   "execution_count": 73,
   "metadata": {},
   "outputs": [
    {
     "data": {
      "text/plain": [
       "480"
      ]
     },
     "execution_count": 73,
     "metadata": {},
     "output_type": "execute_result"
    }
   ],
   "source": [
    "convert()\n",
    "len(l)"
   ]
  },
  {
   "cell_type": "code",
   "execution_count": 74,
   "metadata": {},
   "outputs": [],
   "source": [
    "df = pd.DataFrame.from_dict(l)\n",
    "df.to_csv('Amazon_1001'+'.csv',encoding='utf-8', index=False)"
   ]
  },
  {
   "cell_type": "code",
   "execution_count": 75,
   "metadata": {},
   "outputs": [
    {
     "data": {
      "text/plain": [
       "480"
      ]
     },
     "execution_count": 75,
     "metadata": {},
     "output_type": "execute_result"
    }
   ],
   "source": [
    "len(l)"
   ]
  },
  {
   "cell_type": "code",
   "execution_count": null,
   "metadata": {},
   "outputs": [],
   "source": []
  },
  {
   "cell_type": "code",
   "execution_count": null,
   "metadata": {},
   "outputs": [],
   "source": []
  }
 ],
 "metadata": {
  "kernelspec": {
   "display_name": "Python 3",
   "language": "python",
   "name": "python3"
  },
  "language_info": {
   "codemirror_mode": {
    "name": "ipython",
    "version": 3
   },
   "file_extension": ".py",
   "mimetype": "text/x-python",
   "name": "python",
   "nbconvert_exporter": "python",
   "pygments_lexer": "ipython3",
   "version": "3.6.5"
  }
 },
 "nbformat": 4,
 "nbformat_minor": 2
}
